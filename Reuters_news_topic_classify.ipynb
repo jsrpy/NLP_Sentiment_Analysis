{
 "cells": [
  {
   "cell_type": "markdown",
   "metadata": {},
   "source": [
    "# Reuters - Newswire Topic Classification\n",
    "The Reuters dataset contains 11,228 newswires from Reuters, labeled over 46 topics.   As with the IMDB dataset, each wire is encoded as a sequence of numbers.   \n",
    "\n",
    "Our task is to create a neural network that can classify which topic the piece of text came from. We will use an embedding layer to input the data. "
   ]
  },
  {
   "cell_type": "code",
   "execution_count": 1,
   "metadata": {},
   "outputs": [],
   "source": [
    "import numpy as np"
   ]
  },
  {
   "cell_type": "code",
   "execution_count": 2,
   "metadata": {},
   "outputs": [
    {
     "name": "stderr",
     "output_type": "stream",
     "text": [
      "Using TensorFlow backend.\n"
     ]
    }
   ],
   "source": [
    "from keras.datasets import reuters\n",
    "from keras.preprocessing.sequence import pad_sequences\n",
    "maxlen=100\n",
    "vocab_size=1000\n",
    "(x_train, y_train), (x_test, y_test) = reuters.load_data(path=\"reuters.npz\",\n",
    "                                                         num_words=vocab_size, # use top 1000 frequent words\n",
    "                                                         skip_top=5, # skip top frequency word\n",
    "                                                         maxlen=None,\n",
    "                                                         test_split=0.2,\n",
    "                                                         seed=113,\n",
    "                                                         start_char=1,\n",
    "                                                         oov_char=2,\n",
    "                                                         index_from=3)"
   ]
  },
  {
   "cell_type": "code",
   "execution_count": 3,
   "metadata": {},
   "outputs": [
    {
     "data": {
      "text/plain": [
       "(8982,)"
      ]
     },
     "execution_count": 3,
     "metadata": {},
     "output_type": "execute_result"
    }
   ],
   "source": [
    "x_train.shape"
   ]
  },
  {
   "cell_type": "code",
   "execution_count": 4,
   "metadata": {},
   "outputs": [
    {
     "data": {
      "text/plain": [
       "(2246,)"
      ]
     },
     "execution_count": 4,
     "metadata": {},
     "output_type": "execute_result"
    }
   ],
   "source": [
    "x_test.shape"
   ]
  },
  {
   "cell_type": "code",
   "execution_count": 5,
   "metadata": {},
   "outputs": [],
   "source": [
    "x_train = pad_sequences(x_train, maxlen=maxlen)\n",
    "x_test =  pad_sequences(x_test, maxlen=maxlen)"
   ]
  },
  {
   "cell_type": "code",
   "execution_count": 6,
   "metadata": {},
   "outputs": [
    {
     "data": {
      "text/plain": [
       "(8982, 100)"
      ]
     },
     "execution_count": 6,
     "metadata": {},
     "output_type": "execute_result"
    }
   ],
   "source": [
    "x_train.shape"
   ]
  },
  {
   "cell_type": "code",
   "execution_count": 7,
   "metadata": {},
   "outputs": [
    {
     "data": {
      "text/plain": [
       "array([[  0,   0,   0, ...,  15,  17,  12],\n",
       "       [  0,   0,   0, ..., 505,  17,  12],\n",
       "       [ 19, 758,  15, ...,  11,  17,  12],\n",
       "       ..., \n",
       "       [  0,   0,   0, ..., 407,  17,  12],\n",
       "       [ 88,   2,  72, ..., 364,  17,  12],\n",
       "       [125,   2,  21, ..., 113,  17,  12]], dtype=int32)"
      ]
     },
     "execution_count": 7,
     "metadata": {},
     "output_type": "execute_result"
    }
   ],
   "source": [
    "x_train"
   ]
  },
  {
   "cell_type": "code",
   "execution_count": 8,
   "metadata": {},
   "outputs": [
    {
     "data": {
      "text/plain": [
       "999"
      ]
     },
     "execution_count": 8,
     "metadata": {},
     "output_type": "execute_result"
    }
   ],
   "source": [
    "x_train.max()"
   ]
  },
  {
   "cell_type": "code",
   "execution_count": 9,
   "metadata": {},
   "outputs": [
    {
     "data": {
      "text/plain": [
       "(2246, 100)"
      ]
     },
     "execution_count": 9,
     "metadata": {},
     "output_type": "execute_result"
    }
   ],
   "source": [
    "x_test.shape"
   ]
  },
  {
   "cell_type": "code",
   "execution_count": 10,
   "metadata": {},
   "outputs": [
    {
     "data": {
      "text/plain": [
       "array([ 3, 10,  1, ...,  3,  3, 24])"
      ]
     },
     "execution_count": 10,
     "metadata": {},
     "output_type": "execute_result"
    }
   ],
   "source": [
    "y_test"
   ]
  },
  {
   "cell_type": "code",
   "execution_count": 11,
   "metadata": {},
   "outputs": [
    {
     "name": "stdout",
     "output_type": "stream",
     "text": [
      "_________________________________________________________________\n",
      "Layer (type)                 Output Shape              Param #   \n",
      "=================================================================\n",
      "embedding_1 (Embedding)      (None, 100, 8)            8000      \n",
      "_________________________________________________________________\n",
      "conv1d_1 (Conv1D)            (None, 100, 32)           800       \n",
      "_________________________________________________________________\n",
      "flatten_1 (Flatten)          (None, 3200)              0         \n",
      "_________________________________________________________________\n",
      "dense_1 (Dense)              (None, 512)               1638912   \n",
      "_________________________________________________________________\n",
      "dropout_1 (Dropout)          (None, 512)               0         \n",
      "_________________________________________________________________\n",
      "dense_2 (Dense)              (None, 46)                23598     \n",
      "=================================================================\n",
      "Total params: 1,671,310\n",
      "Trainable params: 1,671,310\n",
      "Non-trainable params: 0\n",
      "_________________________________________________________________\n"
     ]
    },
    {
     "name": "stderr",
     "output_type": "stream",
     "text": [
      "/Users/jsnceo/miniconda3/lib/python3.6/site-packages/ipykernel_launcher.py:6: UserWarning: Update your `Conv1D` call to the Keras 2 API: `Conv1D(activation=\"relu\", filters=32, kernel_size=3, padding=\"same\")`\n",
      "  \n"
     ]
    }
   ],
   "source": [
    "from keras.models import Sequential\n",
    "from keras.layers import Flatten, Dense, Embedding, Dropout\n",
    "from keras.layers.convolutional import Convolution1D, MaxPooling1D\n",
    "model = Sequential()\n",
    "model.add(Embedding(1000, 8, input_length=maxlen))\n",
    "model.add(Convolution1D(nb_filter=32, filter_length=3, border_mode='same', activation='relu')) #\n",
    "model.add(Flatten())\n",
    "model.add(Dense(512, activation='relu')) #\n",
    "model.add(Dropout(0.5)) #\n",
    "model.add(Dense(46, activation='softmax'))\n",
    "model.compile(optimizer='adam', loss='categorical_crossentropy', metrics=['acc'])\n",
    "model.summary()"
   ]
  },
  {
   "cell_type": "code",
   "execution_count": 12,
   "metadata": {},
   "outputs": [
    {
     "data": {
      "text/plain": [
       "(8982, 100)"
      ]
     },
     "execution_count": 12,
     "metadata": {},
     "output_type": "execute_result"
    }
   ],
   "source": [
    "x_train.shape"
   ]
  },
  {
   "cell_type": "code",
   "execution_count": 13,
   "metadata": {},
   "outputs": [
    {
     "data": {
      "text/plain": [
       "array([  0,   0,   0,   0,   0,   0,   0,   0,   0,   0,   0,   0,   0,\n",
       "         2,   2,   2,   8,  43,  10, 447,   5,  25, 207, 270,   5,   2,\n",
       "       111,  16, 369, 186,  90,  67,   7,  89,   5,  19, 102,   6,  19,\n",
       "       124,  15,  90,  67,  84,  22, 482,  26,   7,  48,   2,  49,   8,\n",
       "       864,  39, 209, 154,   6, 151,   6,  83,  11,  15,  22, 155,  11,\n",
       "        15,   7,  48,   9,   2,   2, 504,   6, 258,   6, 272,  11,  15,\n",
       "        22, 134,  44,  11,  15,  16,   8, 197,   2,  90,  67,  52,  29,\n",
       "       209,  30,  32, 132,   6, 109,  15,  17,  12], dtype=int32)"
      ]
     },
     "execution_count": 13,
     "metadata": {},
     "output_type": "execute_result"
    }
   ],
   "source": [
    "x_train[0]"
   ]
  },
  {
   "cell_type": "code",
   "execution_count": 14,
   "metadata": {},
   "outputs": [
    {
     "data": {
      "text/plain": [
       "(8982,)"
      ]
     },
     "execution_count": 14,
     "metadata": {},
     "output_type": "execute_result"
    }
   ],
   "source": [
    "y_train.shape"
   ]
  },
  {
   "cell_type": "code",
   "execution_count": 15,
   "metadata": {},
   "outputs": [
    {
     "data": {
      "text/plain": [
       "(2246,)"
      ]
     },
     "execution_count": 15,
     "metadata": {},
     "output_type": "execute_result"
    }
   ],
   "source": [
    "y_test.shape"
   ]
  },
  {
   "cell_type": "code",
   "execution_count": 16,
   "metadata": {},
   "outputs": [
    {
     "data": {
      "text/plain": [
       "array([ 3,  4,  3, ..., 25,  3, 25])"
      ]
     },
     "execution_count": 16,
     "metadata": {},
     "output_type": "execute_result"
    }
   ],
   "source": [
    "y_train"
   ]
  },
  {
   "cell_type": "code",
   "execution_count": 17,
   "metadata": {},
   "outputs": [],
   "source": [
    "from keras.utils import np_utils # one hot encode the y-label\n",
    "y_train = np_utils.to_categorical(y_train, 46)\n",
    "y_test = np_utils.to_categorical(y_test, 46)"
   ]
  },
  {
   "cell_type": "code",
   "execution_count": 18,
   "metadata": {},
   "outputs": [
    {
     "data": {
      "text/plain": [
       "(8982, 46)"
      ]
     },
     "execution_count": 18,
     "metadata": {},
     "output_type": "execute_result"
    }
   ],
   "source": [
    "y_train.shape"
   ]
  },
  {
   "cell_type": "code",
   "execution_count": 19,
   "metadata": {},
   "outputs": [
    {
     "data": {
      "text/plain": [
       "array([[ 0.,  0.,  0., ...,  0.,  0.,  0.],\n",
       "       [ 0.,  0.,  0., ...,  0.,  0.,  0.],\n",
       "       [ 0.,  0.,  0., ...,  0.,  0.,  0.],\n",
       "       ..., \n",
       "       [ 0.,  0.,  0., ...,  0.,  0.,  0.],\n",
       "       [ 0.,  0.,  0., ...,  0.,  0.,  0.],\n",
       "       [ 0.,  0.,  0., ...,  0.,  0.,  0.]])"
      ]
     },
     "execution_count": 19,
     "metadata": {},
     "output_type": "execute_result"
    }
   ],
   "source": [
    "y_train"
   ]
  },
  {
   "cell_type": "code",
   "execution_count": 20,
   "metadata": {},
   "outputs": [
    {
     "name": "stdout",
     "output_type": "stream",
     "text": [
      "Train on 8982 samples, validate on 2246 samples\n",
      "Epoch 1/20\n",
      "8982/8982 [==============================] - 7s 733us/step - loss: 1.9500 - acc: 0.4942 - val_loss: 1.6638 - val_acc: 0.5695\n",
      "Epoch 2/20\n",
      "8982/8982 [==============================] - 6s 716us/step - loss: 1.5132 - acc: 0.6069 - val_loss: 1.4673 - val_acc: 0.6282\n",
      "Epoch 3/20\n",
      "8982/8982 [==============================] - 6s 716us/step - loss: 1.2536 - acc: 0.6778 - val_loss: 1.3689 - val_acc: 0.6545\n",
      "Epoch 4/20\n",
      "8982/8982 [==============================] - 6s 722us/step - loss: 1.0902 - acc: 0.7129 - val_loss: 1.3423 - val_acc: 0.6661\n",
      "Epoch 5/20\n",
      "8982/8982 [==============================] - 7s 729us/step - loss: 0.9574 - acc: 0.7400 - val_loss: 1.3413 - val_acc: 0.6612\n",
      "Epoch 6/20\n",
      "8982/8982 [==============================] - 7s 733us/step - loss: 0.7974 - acc: 0.7808 - val_loss: 1.3682 - val_acc: 0.6643\n",
      "Epoch 7/20\n",
      "8982/8982 [==============================] - 8s 867us/step - loss: 0.6611 - acc: 0.8151 - val_loss: 1.4592 - val_acc: 0.6598\n",
      "Epoch 8/20\n",
      "8982/8982 [==============================] - 7s 831us/step - loss: 0.5273 - acc: 0.8494 - val_loss: 1.5316 - val_acc: 0.6616\n",
      "Epoch 9/20\n",
      "8982/8982 [==============================] - 8s 841us/step - loss: 0.4215 - acc: 0.8789 - val_loss: 1.6160 - val_acc: 0.6603\n",
      "Epoch 10/20\n",
      "8982/8982 [==============================] - 8s 865us/step - loss: 0.3517 - acc: 0.9035 - val_loss: 1.6469 - val_acc: 0.6594\n",
      "Epoch 11/20\n",
      "8982/8982 [==============================] - 8s 858us/step - loss: 0.2850 - acc: 0.9227 - val_loss: 1.8030 - val_acc: 0.6603\n",
      "Epoch 12/20\n",
      "8982/8982 [==============================] - 8s 854us/step - loss: 0.2576 - acc: 0.9286 - val_loss: 1.7736 - val_acc: 0.6638\n",
      "Epoch 13/20\n",
      "8982/8982 [==============================] - 8s 879us/step - loss: 0.2231 - acc: 0.9372 - val_loss: 1.8710 - val_acc: 0.6603\n",
      "Epoch 14/20\n",
      "8982/8982 [==============================] - 8s 861us/step - loss: 0.2149 - acc: 0.9420 - val_loss: 1.9015 - val_acc: 0.6630\n",
      "Epoch 15/20\n",
      "8982/8982 [==============================] - 8s 868us/step - loss: 0.1997 - acc: 0.9448 - val_loss: 1.9098 - val_acc: 0.6656\n",
      "Epoch 16/20\n",
      "8982/8982 [==============================] - 8s 862us/step - loss: 0.1906 - acc: 0.9480 - val_loss: 2.0597 - val_acc: 0.6625\n",
      "Epoch 17/20\n",
      "8982/8982 [==============================] - 8s 880us/step - loss: 0.1836 - acc: 0.9476 - val_loss: 1.9636 - val_acc: 0.6638\n",
      "Epoch 18/20\n",
      "8982/8982 [==============================] - 8s 896us/step - loss: 0.1751 - acc: 0.9497 - val_loss: 1.9846 - val_acc: 0.6621\n",
      "Epoch 19/20\n",
      "8982/8982 [==============================] - 8s 938us/step - loss: 0.1710 - acc: 0.9507 - val_loss: 2.0326 - val_acc: 0.6607\n",
      "Epoch 20/20\n",
      "8982/8982 [==============================] - 9s 966us/step - loss: 0.1696 - acc: 0.9539 - val_loss: 1.9920 - val_acc: 0.6701\n"
     ]
    }
   ],
   "source": [
    "history = model.fit(x_train, y_train, epochs=20, batch_size=32, validation_data=(x_test,y_test))"
   ]
  },
  {
   "cell_type": "code",
   "execution_count": 21,
   "metadata": {},
   "outputs": [
    {
     "name": "stdout",
     "output_type": "stream",
     "text": [
      "2246/2246 [==============================] - 0s 172us/step\n"
     ]
    }
   ],
   "source": [
    "score = model.evaluate(x_test, y_test)"
   ]
  },
  {
   "cell_type": "code",
   "execution_count": 22,
   "metadata": {},
   "outputs": [
    {
     "data": {
      "text/plain": [
       "[1.9919528770107089, 0.67008014247551206]"
      ]
     },
     "execution_count": 22,
     "metadata": {},
     "output_type": "execute_result"
    }
   ],
   "source": [
    "score"
   ]
  },
  {
   "cell_type": "code",
   "execution_count": 23,
   "metadata": {},
   "outputs": [
    {
     "data": {
      "text/plain": [
       "0.67008014247551206"
      ]
     },
     "execution_count": 23,
     "metadata": {},
     "output_type": "execute_result"
    }
   ],
   "source": [
    "score[1]"
   ]
  }
 ],
 "metadata": {
  "kernelspec": {
   "display_name": "Python 3",
   "language": "python",
   "name": "python3"
  },
  "language_info": {
   "codemirror_mode": {
    "name": "ipython",
    "version": 3
   },
   "file_extension": ".py",
   "mimetype": "text/x-python",
   "name": "python",
   "nbconvert_exporter": "python",
   "pygments_lexer": "ipython3",
   "version": "3.6.4"
  }
 },
 "nbformat": 4,
 "nbformat_minor": 2
}
